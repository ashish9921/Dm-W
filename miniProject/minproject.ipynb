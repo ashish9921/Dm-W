{
 "cells": [
  {
   "cell_type": "code",
   "execution_count": 23,
   "metadata": {},
   "outputs": [
    {
     "name": "stdout",
     "output_type": "stream",
     "text": [
      "       Pregnancies     Glucose  BloodPressure  SkinThickness     Insulin  \\\n",
      "count   768.000000  768.000000     768.000000     768.000000  768.000000   \n",
      "mean      3.845052  120.894531      69.105469      20.536458   79.799479   \n",
      "std       3.369578   31.972618      19.355807      15.952218  115.244002   \n",
      "min       0.000000    0.000000       0.000000       0.000000    0.000000   \n",
      "25%       1.000000   99.000000      62.000000       0.000000    0.000000   \n",
      "50%       3.000000  117.000000      72.000000      23.000000   30.500000   \n",
      "75%       6.000000  140.250000      80.000000      32.000000  127.250000   \n",
      "max      17.000000  199.000000     122.000000      99.000000  846.000000   \n",
      "\n",
      "              BMI  DiabetesPedigreeFunction         Age     Outcome  \n",
      "count  768.000000                768.000000  768.000000  768.000000  \n",
      "mean    31.992578                  0.471876   33.240885    0.348958  \n",
      "std      7.884160                  0.331329   11.760232    0.476951  \n",
      "min      0.000000                  0.078000   21.000000    0.000000  \n",
      "25%     27.300000                  0.243750   24.000000    0.000000  \n",
      "50%     32.000000                  0.372500   29.000000    0.000000  \n",
      "75%     36.600000                  0.626250   41.000000    1.000000  \n",
      "max     67.100000                  2.420000   81.000000    1.000000  \n"
     ]
    }
   ],
   "source": [
    "import pandas as pd\n",
    "import numpy as np\n",
    "data=pd.read_csv(\"diabetes.csv\",delimiter=',')\n",
    "print(data.describe())"
   ]
  },
  {
   "cell_type": "code",
   "execution_count": 24,
   "metadata": {},
   "outputs": [
    {
     "name": "stdout",
     "output_type": "stream",
     "text": [
      "(768, 9)\n",
      "   Pregnancies  Glucose  BloodPressure  SkinThickness  Insulin   BMI  \\\n",
      "0            6      148             72             35        0  33.6   \n",
      "1            1       85             66             29        0  26.6   \n",
      "2            8      183             64              0        0  23.3   \n",
      "3            1       89             66             23       94  28.1   \n",
      "4            0      137             40             35      168  43.1   \n",
      "5            5      116             74              0        0  25.6   \n",
      "6            3       78             50             32       88  31.0   \n",
      "7           10      115              0              0        0  35.3   \n",
      "8            2      197             70             45      543  30.5   \n",
      "9            8      125             96              0        0   0.0   \n",
      "\n",
      "   DiabetesPedigreeFunction  Age  Outcome  \n",
      "0                     0.627   50        1  \n",
      "1                     0.351   31        0  \n",
      "2                     0.672   32        1  \n",
      "3                     0.167   21        0  \n",
      "4                     2.288   33        1  \n",
      "5                     0.201   30        0  \n",
      "6                     0.248   26        1  \n",
      "7                     0.134   29        0  \n",
      "8                     0.158   53        1  \n",
      "9                     0.232   54        1  \n"
     ]
    }
   ],
   "source": [
    "print(data.shape)\n",
    "print(data.head(10))"
   ]
  },
  {
   "cell_type": "code",
   "execution_count": 29,
   "metadata": {},
   "outputs": [
    {
     "name": "stdout",
     "output_type": "stream",
     "text": [
      "[[148.   72.   35.    0.   33.6]\n",
      " [ 85.   66.   29.    0.   26.6]\n",
      " [183.   64.    0.    0.   23.3]\n",
      " [ 89.   66.   23.   94.   28.1]\n",
      " [137.   40.   35.  168.   43.1]\n",
      " [116.   74.    0.    0.   25.6]\n",
      " [ 78.   50.   32.   88.   31. ]\n",
      " [115.    0.    0.    0.   35.3]\n",
      " [197.   70.   45.  543.   30.5]\n",
      " [125.   96.    0.    0.    0. ]\n",
      " [110.   92.    0.    0.   37.6]]\n"
     ]
    }
   ],
   "source": [
    "x=data[['Glucose','BloodPressure','SkinThickness','Insulin','BMI']].values\n",
    "print(x[0:11])"
   ]
  },
  {
   "cell_type": "code",
   "execution_count": 30,
   "metadata": {},
   "outputs": [
    {
     "name": "stdout",
     "output_type": "stream",
     "text": [
      "[[1]\n",
      " [0]\n",
      " [1]\n",
      " [0]\n",
      " [1]\n",
      " [0]\n",
      " [1]\n",
      " [0]\n",
      " [1]\n",
      " [1]\n",
      " [0]]\n"
     ]
    }
   ],
   "source": [
    "\n",
    "y=data[['Outcome']].values\n",
    "print(y[0:11])"
   ]
  },
  {
   "cell_type": "code",
   "execution_count": 31,
   "metadata": {},
   "outputs": [
    {
     "name": "stdout",
     "output_type": "stream",
     "text": [
      "After filling missing value by mean\n",
      "[[148.   72.   35.    0.   33.6]\n",
      " [ 85.   66.   29.    0.   26.6]\n",
      " [183.   64.    0.    0.   23.3]\n",
      " ...\n",
      " [121.   72.   23.  112.   26.2]\n",
      " [126.   60.    0.    0.   30.1]\n",
      " [ 93.   70.   31.    0.   30.4]]\n"
     ]
    }
   ],
   "source": [
    "from sklearn.impute import SimpleImputer\n",
    "imputer = SimpleImputer(missing_values=np.nan, strategy='mean')\n",
    "imputer = imputer.fit(x[:, [0,1]])\n",
    "x[:,[0,1]] = imputer.transform(x[:, [0,1]])\n",
    "print(\"After filling missing value by mean\")\n",
    "print(x)\n"
   ]
  },
  {
   "cell_type": "code",
   "execution_count": 32,
   "metadata": {},
   "outputs": [],
   "source": [
    "from sklearn.preprocessing import StandardScaler\n",
    "scalar=StandardScaler()\n",
    "x=scalar.fit_transform(x)\n"
   ]
  },
  {
   "cell_type": "code",
   "execution_count": 33,
   "metadata": {},
   "outputs": [
    {
     "data": {
      "image/png": "[encoded data removed]",
      "text/plain": [
       "<Figure size 432x288 with 9 Axes>"
      ]
     },
     "metadata": {
      "needs_background": "light"
     },
     "output_type": "display_data"
    }
   ],
   "source": [
    "import matplotlib.pyplot as plt\n",
    "data.hist()\n",
    "plt.show()"
   ]
  },
  {
   "cell_type": "code",
   "execution_count": 34,
   "metadata": {},
   "outputs": [
    {
     "data": {
      "image/png": "[encoded data removed]",
      "text/plain": [
       "<Figure size 432x288 with 1 Axes>"
      ]
     },
     "metadata": {
      "needs_background": "light"
     },
     "output_type": "display_data"
    }
   ],
   "source": [
    "plt.scatter(x[1],x[0],s=100,c=\"red\",alpha=0.5)\n",
    "plt.title('Scatter plot Glucose vs Blood')\n",
    "plt.xlabel('Glucose')\n",
    "plt.ylabel('Blood')\n",
    "plt.show()"
   ]
  },
  {
   "cell_type": "code",
   "execution_count": 35,
   "metadata": {},
   "outputs": [],
   "source": [
    "from sklearn.model_selection import train_test_split\n",
    "X_trainset,X_testset,Y_trainset,Y_testset=train_test_split(x,y,test_size=0.3,random_state=4)\n"
   ]
  },
  {
   "cell_type": "code",
   "execution_count": 45,
   "metadata": {},
   "outputs": [],
   "source": [
    "\n",
    "def DecisionTree():\n",
    "    from sklearn.tree import DecisionTreeClassifier\n",
    "    Y_true = DecisionTreeClassifier(criterion=\"entropy\",max_depth=4)\n",
    "    print(Y_true)\n",
    "\n",
    "    Y_true.fit(X_trainset,Y_trainset)\n",
    "    Y_pred = Y_true.predict(X_testset)\n",
    "    print(Y_pred[0:5])\n",
    "\n",
    "    #Evaluation\n",
    "    from sklearn import metrics\n",
    "    import matplotlib.pyplot as plt\n",
    "    print(\"DecisionTrees ' s Accuracy: \", metrics.accuracy_score(Y_testset, Y_pred))\n",
    "    print()\n",
    "    print(\"Confusion Matrix of Decision tree:\",metrics.confusion_matrix(Y_testset,Y_pred))\n",
    "\n",
    "    import scikitplot as skplt\n",
    "    skplt.metrics.plot_confusion_matrix(Y_testset,Y_pred)\n",
    "    plt.show()\n",
    "    print()\n",
    "    print(\"Classification report:\")\n",
    "    print()\n",
    "    print(metrics.classification_report(Y_testset,Y_pred))\n",
    "\n",
    "    #Visualization\n",
    "    import pydotplus\n",
    "    import IPython.display\n",
    "    import matplotlib.image as mpimg\n",
    "    from sklearn import tree\n",
    "\n",
    "    \"\"\"featureNames = data.columns[0:5]\n",
    "    targetNames = data[\"Outcome\"].unique().tolist()\n",
    "    out=tree.export_graphviz(Y_true,feature_names= featureNames,out_file=None,class_names=np.unique(Y_trainset),filled=True,special_characters=True,rotate=False)\n",
    "    graph = pydotplus.graph_from_dot_data(out)\"\"\"\n",
    "    \n",
    "    #Precision Recall F1 Score plot\n",
    "    p=metrics.classification_report(Y_testset,Y_pred,output_dict=True)\n",
    "    p1=pd.DataFrame(p).transpose()\n",
    "    print(p1)\n",
    "    p1=p1.drop('support',1)\n",
    "    print(p1)\n",
    "    p1.plot.bar()\n",
    "    plt.title('Decision Tree')\n",
    "    plt.show()\n",
    "\n",
    "    "
   ]
  },
  {
   "cell_type": "code",
   "execution_count": 46,
   "metadata": {},
   "outputs": [
    {
     "name": "stdout",
     "output_type": "stream",
     "text": [
      "DecisionTreeClassifier(criterion='entropy', max_depth=4)\n",
      "[0 0 0 0 0]\n",
      "DecisionTrees ' s Accuracy:  0.7965367965367965\n",
      "\n",
      "Confusion Matrix of Decision tree: [[128  24]\n",
      " [ 23  56]]\n"
     ]
    },
    {
     "data": {
      "image/png": "[encoded data removed]",
      "text/plain": [
       "<Figure size 432x288 with 2 Axes>"
      ]
     },
     "metadata": {
      "needs_background": "light"
     },
     "output_type": "display_data"
    },
    {
     "name": "stdout",
     "output_type": "stream",
     "text": [
      "\n",
      "Classification report:\n",
      "\n",
      "              precision    recall  f1-score   support\n",
      "\n",
      "           0       0.85      0.84      0.84       152\n",
      "           1       0.70      0.71      0.70        79\n",
      "\n",
      "    accuracy                           0.80       231\n",
      "   macro avg       0.77      0.78      0.77       231\n",
      "weighted avg       0.80      0.80      0.80       231\n",
      "\n",
      "              precision    recall  f1-score     support\n",
      "0              0.847682  0.842105  0.844884  152.000000\n",
      "1              0.700000  0.708861  0.704403   79.000000\n",
      "accuracy       0.796537  0.796537  0.796537    0.796537\n",
      "macro avg      0.773841  0.775483  0.774644  231.000000\n",
      "weighted avg   0.797176  0.796537  0.796841  231.000000\n",
      "              precision    recall  f1-score\n",
      "0              0.847682  0.842105  0.844884\n",
      "1              0.700000  0.708861  0.704403\n",
      "accuracy       0.796537  0.796537  0.796537\n",
      "macro avg      0.773841  0.775483  0.774644\n",
      "weighted avg   0.797176  0.796537  0.796841\n"
     ]
    },
    {
     "name": "stderr",
     "output_type": "stream",
     "text": [
      "C:\\Users\\ASHISH\\AppData\\Local\\Temp/ipykernel_9696/3054303312.py:40: FutureWarning: In a future version of pandas all arguments of DataFrame.drop except for the argument 'labels' will be keyword-only\n",
      "  p1=p1.drop('support',1)\n"
     ]
    },
    {
     "data": {
      "image/png": "[encoded data removed]",
      "text/plain": [
       "<Figure size 432x288 with 1 Axes>"
      ]
     },
     "metadata": {
      "needs_background": "light"
     },
     "output_type": "display_data"
    }
   ],
   "source": [
    "DecisionTree()"
   ]
  },
  {
   "cell_type": "code",
   "execution_count": 47,
   "metadata": {},
   "outputs": [],
   "source": [
    "def KNN():\n",
    "    from sklearn.neighbors import KNeighborsClassifier\n",
    "    Y1_true= KNeighborsClassifier(n_neighbors=3)\n",
    "    Y1_true.fit(X_trainset,Y_trainset)\n",
    "    Y1_pred = Y1_true.predict(X_testset)\n",
    "    print(Y1_pred[0:5])\n",
    "\n",
    "    #Evaluation\n",
    "    from sklearn import metrics\n",
    "    import matplotlib.pyplot as plt\n",
    "    print(\"KNeighbour ' s Accuracy: \", metrics.accuracy_score(Y_testset, Y1_pred))\n",
    "    print(\"Confusion Matrix for KNeighbours:\",metrics.confusion_matrix(Y_testset,Y1_pred))\n",
    "\n",
    "    import scikitplot as skplt\n",
    "    skplt.metrics.plot_confusion_matrix(Y_testset,Y1_pred)\n",
    "    plt.show()\n",
    "\n",
    "    print(\"Classification report:\")\n",
    "    print(metrics.classification_report(Y_testset,Y1_pred))\n",
    "\n",
    "\n",
    "    #Precision Recall F1 Score plot\n",
    "    p2=metrics.classification_report(Y_testset,Y1_pred,output_dict=True)\n",
    "    p3=pd.DataFrame(p2).transpose()\n",
    "    p3=p3.drop('support',1)\n",
    "    print(p3)\n",
    "    p3.plot.bar()\n",
    "    plt.title('KNeighbours')\n",
    "    plt.show()\n",
    "\n"
   ]
  },
  {
   "cell_type": "code",
   "execution_count": 48,
   "metadata": {},
   "outputs": [
    {
     "name": "stdout",
     "output_type": "stream",
     "text": [
      "[0 0 0 1 1]\n",
      "KNeighbour ' s Accuracy:  0.7316017316017316\n",
      "Confusion Matrix for KNeighbours: [[123  29]\n",
      " [ 33  46]]\n"
     ]
    },
    {
     "name": "stderr",
     "output_type": "stream",
     "text": [
      "C:\\Users\\ASHISH\\AppData\\Local\\Programs\\Python\\Python39\\lib\\site-packages\\sklearn\\neighbors\\_classification.py:198: DataConversionWarning: A column-vector y was passed when a 1d array was expected. Please change the shape of y to (n_samples,), for example using ravel().\n",
      "  return self._fit(X, y)\n"
     ]
    },
    {
     "data": {
      "image/png": "[encoded data removed]",
      "text/plain": [
       "<Figure size 432x288 with 2 Axes>"
      ]
     },
     "metadata": {
      "needs_background": "light"
     },
     "output_type": "display_data"
    },
    {
     "name": "stdout",
     "output_type": "stream",
     "text": [
      "Classification report:\n",
      "              precision    recall  f1-score   support\n",
      "\n",
      "           0       0.79      0.81      0.80       152\n",
      "           1       0.61      0.58      0.60        79\n",
      "\n",
      "    accuracy                           0.73       231\n",
      "   macro avg       0.70      0.70      0.70       231\n",
      "weighted avg       0.73      0.73      0.73       231\n",
      "\n",
      "              precision    recall  f1-score\n",
      "0              0.788462  0.809211  0.798701\n",
      "1              0.613333  0.582278  0.597403\n",
      "accuracy       0.731602  0.731602  0.731602\n",
      "macro avg      0.700897  0.695745  0.698052\n",
      "weighted avg   0.728569  0.731602  0.729859\n"
     ]
    },
    {
     "name": "stderr",
     "output_type": "stream",
     "text": [
      "C:\\Users\\ASHISH\\AppData\\Local\\Temp/ipykernel_9696/3954237981.py:25: FutureWarning: In a future version of pandas all arguments of DataFrame.drop except for the argument 'labels' will be keyword-only\n",
      "  p3=p3.drop('support',1)\n"
     ]
    },
    {
     "data": {
      "image/png": "[encoded data removed]",
      "text/plain": [
       "<Figure size 432x288 with 1 Axes>"
      ]
     },
     "metadata": {
      "needs_background": "light"
     },
     "output_type": "display_data"
    }
   ],
   "source": [
    "KNN()"
   ]
  },
  {
   "cell_type": "code",
   "execution_count": 49,
   "metadata": {},
   "outputs": [],
   "source": [
    "def randomforest():\n",
    "    from sklearn.ensemble import RandomForestClassifier\n",
    "    Y1_true = RandomForestClassifier(n_estimators=20,max_depth=5,max_features=1)\n",
    "    Y1_true.fit(X_trainset,Y_trainset)\n",
    "    Y1_pred = Y1_true.predict(X_testset)\n",
    "    print(Y1_pred[0:5])\n",
    "\n",
    "\n",
    "    #Evaluation\n",
    "    from sklearn import metrics\n",
    "    import matplotlib.pyplot as plt\n",
    "    print(\"RandomForest' s Accuracy: \", metrics.accuracy_score(Y_testset, Y1_pred))\n",
    "    print(\"Confusion Matrix of Random Matrix:\",metrics.confusion_matrix(Y_testset,Y1_pred))\n",
    "\n",
    "    import scikitplot as skplt\n",
    "    skplt.metrics.plot_confusion_matrix(Y_testset,Y1_pred)\n",
    "    plt.show()\n",
    "\n",
    "    print(\"Classification report:\")\n",
    "    print(metrics.classification_report(Y_testset,Y1_pred))\n",
    "\n",
    "\n",
    "    #Precision Recall F1 Score plot\n",
    "    p4=metrics.classification_report(Y_testset,Y1_pred,output_dict=True)\n",
    "    p5=pd.DataFrame(p4).transpose()\n",
    "    print(p5)\n",
    "    p5=p5.drop('support',1)\n",
    "    print(p5)\n",
    "    p5.plot.bar()\n",
    "    plt.title('Randomforest')\n",
    "    plt.show()\n"
   ]
  },
  {
   "cell_type": "code",
   "execution_count": 50,
   "metadata": {},
   "outputs": [
    {
     "name": "stdout",
     "output_type": "stream",
     "text": [
      "[0 0 0 1 0]\n",
      "RandomForest' s Accuracy:  0.7748917748917749\n",
      "Confusion Matrix of Random Matrix: [[134  18]\n",
      " [ 34  45]]\n"
     ]
    },
    {
     "name": "stderr",
     "output_type": "stream",
     "text": [
      "C:\\Users\\ASHISH\\AppData\\Local\\Temp/ipykernel_9696/380389884.py:4: DataConversionWarning: A column-vector y was passed when a 1d array was expected. Please change the shape of y to (n_samples,), for example using ravel().\n",
      "  Y1_true.fit(X_trainset,Y_trainset)\n"
     ]
    },
    {
     "data": {
      "image/png": "[encoded data removed]",
      "text/plain": [
       "<Figure size 432x288 with 2 Axes>"
      ]
     },
     "metadata": {
      "needs_background": "light"
     },
     "output_type": "display_data"
    },
    {
     "name": "stderr",
     "output_type": "stream",
     "text": [
      "C:\\Users\\ASHISH\\AppData\\Local\\Temp/ipykernel_9696/380389884.py:27: FutureWarning: In a future version of pandas all arguments of DataFrame.drop except for the argument 'labels' will be keyword-only\n",
      "  p5=p5.drop('support',1)\n"
     ]
    },
    {
     "name": "stdout",
     "output_type": "stream",
     "text": [
      "Classification report:\n",
      "              precision    recall  f1-score   support\n",
      "\n",
      "           0       0.80      0.88      0.84       152\n",
      "           1       0.71      0.57      0.63        79\n",
      "\n",
      "    accuracy                           0.77       231\n",
      "   macro avg       0.76      0.73      0.74       231\n",
      "weighted avg       0.77      0.77      0.77       231\n",
      "\n",
      "              precision    recall  f1-score     support\n",
      "0              0.797619  0.881579  0.837500  152.000000\n",
      "1              0.714286  0.569620  0.633803   79.000000\n",
      "accuracy       0.774892  0.774892  0.774892    0.774892\n",
      "macro avg      0.755952  0.725600  0.735651  231.000000\n",
      "weighted avg   0.769120  0.774892  0.767837  231.000000\n",
      "              precision    recall  f1-score\n",
      "0              0.797619  0.881579  0.837500\n",
      "1              0.714286  0.569620  0.633803\n",
      "accuracy       0.774892  0.774892  0.774892\n",
      "macro avg      0.755952  0.725600  0.735651\n",
      "weighted avg   0.769120  0.774892  0.767837\n"
     ]
    },
    {
     "data": {
      "image/png": "[encoded data removed]",
      "text/plain": [
       "<Figure size 432x288 with 1 Axes>"
      ]
     },
     "metadata": {
      "needs_background": "light"
     },
     "output_type": "display_data"
    }
   ],
   "source": [
    "randomforest()"
   ]
  },
  {
   "cell_type": "code",
   "execution_count": 57,
   "metadata": {},
   "outputs": [],
   "source": [
    "def allthree():\n",
    "    from sklearn.tree import DecisionTreeClassifier\n",
    "    from sklearn.neighbors import KNeighborsClassifier\n",
    "    from sklearn.ensemble import RandomForestClassifier\n",
    "    classifiers =[DecisionTreeClassifier(),KNeighborsClassifier(3),RandomForestClassifier()]\n",
    "    log_cols = [\"Classifier\",\"Accuracy\",\"Log Loss\"]\n",
    "    log = pd.DataFrame(columns=log_cols)\n",
    "    i=0\n",
    "\n",
    "    from sklearn.metrics import accuracy_score\n",
    "    from sklearn.metrics import log_loss\n",
    "    for clf in classifiers:\n",
    "        clf.fit(X_trainset,Y_trainset)\n",
    "        name = clf.__class__.__name__\n",
    "        print(\"=\" * 30)\n",
    "        print(name)\n",
    "        print('****Results****')\n",
    "        train_predictions = clf.predict(X_testset)\n",
    "        acc = accuracy_score(Y_testset,train_predictions)\n",
    "        print(\"Accuracy: {:.4%}\".format(acc))\n",
    "        train_predictions = clf.predict_proba(X_testset)\n",
    "        ll = log_loss(Y_testset, train_predictions)#Error\n",
    "        print(\"Log Loss: {}\".format(ll))\n",
    "        log_entry = pd.DataFrame([[name, acc * 100, ll]], columns=log_cols)\n",
    "        log = log.append(log_entry)\n",
    "    plt.hist(log)\n",
    "    plt.show()\n",
    "\n",
    "    import seaborn as sns\n",
    "    sns.set_color_codes(\"muted\")\n",
    "    sns.barplot(x='Accuracy', y='Classifier', data=log, color=\"b\")\n",
    "    plt.xlabel('Accuracy %')\n",
    "    plt.title('Classifier Accuracy')\n",
    "    plt.show()\n"
   ]
  },
  {
   "cell_type": "code",
   "execution_count": 58,
   "metadata": {},
   "outputs": [
    {
     "name": "stdout",
     "output_type": "stream",
     "text": [
      "==============================\n",
      "DecisionTreeClassifier\n",
      "****Results****\n",
      "Accuracy: 69.6970%\n",
      "Log Loss: 10.466295877245662\n",
      "==============================\n",
      "KNeighborsClassifier\n",
      "****Results****\n",
      "Accuracy: 73.1602%\n",
      "Log Loss: 2.8716772676999374\n",
      "==============================\n",
      "RandomForestClassifier\n",
      "****Results****\n",
      "Accuracy: 73.5931%\n",
      "Log Loss: 0.4929738948123885\n"
     ]
    },
    {
     "name": "stderr",
     "output_type": "stream",
     "text": [
      "C:\\Users\\ASHISH\\AppData\\Local\\Programs\\Python\\Python39\\lib\\site-packages\\sklearn\\neighbors\\_classification.py:198: DataConversionWarning: A column-vector y was passed when a 1d array was expected. Please change the shape of y to (n_samples,), for example using ravel().\n",
      "  return self._fit(X, y)\n",
      "C:\\Users\\ASHISH\\AppData\\Local\\Temp/ipykernel_9696/2431145908.py:13: DataConversionWarning: A column-vector y was passed when a 1d array was expected. Please change the shape of y to (n_samples,), for example using ravel().\n",
      "  clf.fit(X_trainset,Y_trainset)\n"
     ]
    },
    {
     "data": {
      "image/png": "[encoded data removed]",
      "text/plain": [
       "<Figure size 432x288 with 1 Axes>"
      ]
     },
     "metadata": {
      "needs_background": "light"
     },
     "output_type": "display_data"
    },
    {
     "data": {
      "image/png": "[encoded data removed]",
      "text/plain": [
       "<Figure size 432x288 with 1 Axes>"
      ]
     },
     "metadata": {
      "needs_background": "light"
     },
     "output_type": "display_data"
    }
   ],
   "source": [
    "allthree()"
   ]
  }
 ],
 "metadata": {
  "interpreter": {
   "hash": "0656130f8ea9e7814606cd81f5833eb9a298630f404b35f78dd6cd0683f01d34"
  },
  "kernelspec": {
   "display_name": "Python 3.9.7 64-bit",
   "language": "python",
   "name": "python3"
  },
  "language_info": {
   "codemirror_mode": {
    "name": "ipython",
    "version": 3
   },
   "file_extension": ".py",
   "mimetype": "text/x-python",
   "name": "python",
   "nbconvert_exporter": "python",
   "pygments_lexer": "ipython3",
   "version": "3.9.7"
  },
  "orig_nbformat": 4
 },
 "nbformat": 4,
 "nbformat_minor": 2
}
